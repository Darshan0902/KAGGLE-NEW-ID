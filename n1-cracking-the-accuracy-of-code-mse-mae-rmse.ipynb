{
 "cells": [
  {
   "cell_type": "markdown",
   "id": "81fa5784",
   "metadata": {
    "papermill": {
     "duration": 0.008201,
     "end_time": "2023-07-11T10:56:13.448298",
     "exception": false,
     "start_time": "2023-07-11T10:56:13.440097",
     "status": "completed"
    },
    "tags": []
   },
   "source": [
    "\n",
    "# <div style= \"font-family: Times New Roman; font-weight:bold; letter-spacing: 0px; color:WHITE; font-size:120%; text-align:left;padding:3.0px; background: #FF4500; border-bottom: 8px solid WHITE\" > TABLE OF CONTENTS<br><div>  \n",
    "\n",
    "* [1 - IMPORTING LIBRARIES](#1) \n",
    "    \n",
    "\n",
    "* [2 - DATA COLLECTIONS & PREPARATION](#2)\n",
    "    \n",
    "    \n",
    "* [3 - EXPLORATORY DATA ANALYSIS](#3) \n",
    "    \n",
    "* [4 - DATA VISUALIZATION](#4)\n",
    "\n",
    "* [5 - MODEL BUILDING.](#5)\n",
    "    \n",
    "    * [5.1 - LINEAR REGRESSION MODEL](#5.1)\n",
    "    * [5.2 - SPLITTING THE DATA](#5.2)\n",
    "    * [5.3 - FITTING THE DATA](#5.3)\n",
    "    * [5.4 - PREDICTIONS](#5.4)\n",
    "    * [5.5 - VISUALIZATIONS](#5.5)\n",
    "        \n",
    "    \n",
    "* [6 - METRICS CALCULATION](#6)\n",
    "    * [6.1 -  MSE : MEAN SQUARED ERROR](#6.1)\n",
    "    * [6.2 - RMSE : ROOT MEAN SQUARED ERROR](#6.2)\n",
    "    * [6.3 - MAE : MEAN ABSOLUTE ERROR](#6.3)\n",
    "    * [6.4 - R2 SCORE](#6.4)\n",
    "    \n",
    "    \n",
    "* [7 - NOTE](#7)"
   ]
  },
  {
   "cell_type": "markdown",
   "id": "f0f2674c",
   "metadata": {
    "papermill": {
     "duration": 0.011196,
     "end_time": "2023-07-11T10:56:13.467576",
     "exception": false,
     "start_time": "2023-07-11T10:56:13.456380",
     "status": "completed"
    },
    "tags": []
   },
   "source": [
    "# <a id=\"1\"></a>\n",
    "### <div style= \"font-family: Times New Roman; font-weight:bold; letter-spacing: 0px; color:WHITE; font-size:120%; text-align:left;padding:3.0px; background: #FF4500; border-bottom: 8px solid WHITE\" > 1 -  Importing Libraries <br><div>  "
   ]
  },
  {
   "cell_type": "code",
   "execution_count": 1,
   "id": "59fdb385",
   "metadata": {
    "execution": {
     "iopub.execute_input": "2023-07-11T10:56:13.493303Z",
     "iopub.status.busy": "2023-07-11T10:56:13.492577Z",
     "iopub.status.idle": "2023-07-11T10:56:14.988585Z",
     "shell.execute_reply": "2023-07-11T10:56:14.987658Z"
    },
    "papermill": {
     "duration": 1.511632,
     "end_time": "2023-07-11T10:56:14.990961",
     "exception": false,
     "start_time": "2023-07-11T10:56:13.479329",
     "status": "completed"
    },
    "tags": []
   },
   "outputs": [
    {
     "name": "stderr",
     "output_type": "stream",
     "text": [
      "/opt/conda/lib/python3.10/site-packages/scipy/__init__.py:146: UserWarning: A NumPy version >=1.16.5 and <1.23.0 is required for this version of SciPy (detected version 1.23.5\n",
      "  warnings.warn(f\"A NumPy version >={np_minversion} and <{np_maxversion}\"\n"
     ]
    }
   ],
   "source": [
    "import numpy as np # linear algebra\n",
    "import pandas as pd # data processing, CSV file I/O (e.g. pd.read_csv)\n",
    "import matplotlib.pyplot as plt \n",
    "import seaborn as sns \n",
    "import io \n",
    "import os\n",
    "\n",
    "# Any results you write to the current directory are saved as output."
   ]
  },
  {
   "cell_type": "markdown",
   "id": "06a54f6e",
   "metadata": {
    "papermill": {
     "duration": 0.007519,
     "end_time": "2023-07-11T10:56:15.006836",
     "exception": false,
     "start_time": "2023-07-11T10:56:14.999317",
     "status": "completed"
    },
    "tags": []
   },
   "source": [
    "# <a id=\"2\"></a>\n",
    "### <div style= \"font-family: Times New Roman; font-weight:bold; letter-spacing: 0px; color:WHITE; font-size:120%; text-align:left;padding:3.0px; background: #FF4500; border-bottom: 8px solid WHITE\" >2 - Data Collection & Preparation . <br><div>  "
   ]
  },
  {
   "cell_type": "code",
   "execution_count": 2,
   "id": "ac1cbf6b",
   "metadata": {
    "execution": {
     "iopub.execute_input": "2023-07-11T10:56:15.025390Z",
     "iopub.status.busy": "2023-07-11T10:56:15.025019Z",
     "iopub.status.idle": "2023-07-11T10:56:15.071949Z",
     "shell.execute_reply": "2023-07-11T10:56:15.070699Z"
    },
    "papermill": {
     "duration": 0.058503,
     "end_time": "2023-07-11T10:56:15.074513",
     "exception": false,
     "start_time": "2023-07-11T10:56:15.016010",
     "status": "completed"
    },
    "tags": []
   },
   "outputs": [],
   "source": [
    "df = pd.read_csv(\"/kaggle/input/housing-dataset-of-5001-people-staying-in-usa/USA_Housing.csv\")\n",
    "\n",
    "#Reading the file in CSV format using read.csv('path of the file.') into a variable named df."
   ]
  },
  {
   "cell_type": "markdown",
   "id": "8631527c",
   "metadata": {
    "papermill": {
     "duration": 0.007626,
     "end_time": "2023-07-11T10:56:15.090352",
     "exception": false,
     "start_time": "2023-07-11T10:56:15.082726",
     "status": "completed"
    },
    "tags": []
   },
   "source": [
    "# <a id=\"3\"></a>\n",
    "### <div style= \"font-family: Times New Roman; font-weight:bold; letter-spacing: 0px; color:WHITE; font-size:120%; text-align:left;padding:3.0px; background: #FF4500; border-bottom: 8px solid WHITE\" >3 - Exploratory Data Analysis. <br><div>  "
   ]
  },
  {
   "cell_type": "code",
   "execution_count": 3,
   "id": "a8090031",
   "metadata": {
    "execution": {
     "iopub.execute_input": "2023-07-11T10:56:15.108221Z",
     "iopub.status.busy": "2023-07-11T10:56:15.107845Z",
     "iopub.status.idle": "2023-07-11T10:56:15.130913Z",
     "shell.execute_reply": "2023-07-11T10:56:15.129804Z"
    },
    "papermill": {
     "duration": 0.03483,
     "end_time": "2023-07-11T10:56:15.133105",
     "exception": false,
     "start_time": "2023-07-11T10:56:15.098275",
     "status": "completed"
    },
    "tags": []
   },
   "outputs": [
    {
     "data": {
      "text/html": [
       "<div>\n",
       "<style scoped>\n",
       "    .dataframe tbody tr th:only-of-type {\n",
       "        vertical-align: middle;\n",
       "    }\n",
       "\n",
       "    .dataframe tbody tr th {\n",
       "        vertical-align: top;\n",
       "    }\n",
       "\n",
       "    .dataframe thead th {\n",
       "        text-align: right;\n",
       "    }\n",
       "</style>\n",
       "<table border=\"1\" class=\"dataframe\">\n",
       "  <thead>\n",
       "    <tr style=\"text-align: right;\">\n",
       "      <th></th>\n",
       "      <th>Avg. Area Income</th>\n",
       "      <th>Avg. Area House Age</th>\n",
       "      <th>Avg. Area Number of Rooms</th>\n",
       "      <th>Avg. Area Number of Bedrooms</th>\n",
       "      <th>Area Population</th>\n",
       "      <th>Price</th>\n",
       "      <th>Address</th>\n",
       "    </tr>\n",
       "  </thead>\n",
       "  <tbody>\n",
       "    <tr>\n",
       "      <th>0</th>\n",
       "      <td>79545.458574</td>\n",
       "      <td>5.682861</td>\n",
       "      <td>7.009188</td>\n",
       "      <td>4.09</td>\n",
       "      <td>23086.800503</td>\n",
       "      <td>1.059034e+06</td>\n",
       "      <td>208 Michael Ferry Apt. 674\\nLaurabury, NE 3701...</td>\n",
       "    </tr>\n",
       "    <tr>\n",
       "      <th>1</th>\n",
       "      <td>79248.642455</td>\n",
       "      <td>6.002900</td>\n",
       "      <td>6.730821</td>\n",
       "      <td>3.09</td>\n",
       "      <td>40173.072174</td>\n",
       "      <td>1.505891e+06</td>\n",
       "      <td>188 Johnson Views Suite 079\\nLake Kathleen, CA...</td>\n",
       "    </tr>\n",
       "    <tr>\n",
       "      <th>2</th>\n",
       "      <td>61287.067179</td>\n",
       "      <td>5.865890</td>\n",
       "      <td>8.512727</td>\n",
       "      <td>5.13</td>\n",
       "      <td>36882.159400</td>\n",
       "      <td>1.058988e+06</td>\n",
       "      <td>9127 Elizabeth Stravenue\\nDanieltown, WI 06482...</td>\n",
       "    </tr>\n",
       "    <tr>\n",
       "      <th>3</th>\n",
       "      <td>63345.240046</td>\n",
       "      <td>7.188236</td>\n",
       "      <td>5.586729</td>\n",
       "      <td>3.26</td>\n",
       "      <td>34310.242831</td>\n",
       "      <td>1.260617e+06</td>\n",
       "      <td>USS Barnett\\nFPO AP 44820</td>\n",
       "    </tr>\n",
       "    <tr>\n",
       "      <th>4</th>\n",
       "      <td>59982.197226</td>\n",
       "      <td>5.040555</td>\n",
       "      <td>7.839388</td>\n",
       "      <td>4.23</td>\n",
       "      <td>26354.109472</td>\n",
       "      <td>6.309435e+05</td>\n",
       "      <td>USNS Raymond\\nFPO AE 09386</td>\n",
       "    </tr>\n",
       "  </tbody>\n",
       "</table>\n",
       "</div>"
      ],
      "text/plain": [
       "   Avg. Area Income  Avg. Area House Age  Avg. Area Number of Rooms  \\\n",
       "0      79545.458574             5.682861                   7.009188   \n",
       "1      79248.642455             6.002900                   6.730821   \n",
       "2      61287.067179             5.865890                   8.512727   \n",
       "3      63345.240046             7.188236                   5.586729   \n",
       "4      59982.197226             5.040555                   7.839388   \n",
       "\n",
       "   Avg. Area Number of Bedrooms  Area Population         Price  \\\n",
       "0                          4.09     23086.800503  1.059034e+06   \n",
       "1                          3.09     40173.072174  1.505891e+06   \n",
       "2                          5.13     36882.159400  1.058988e+06   \n",
       "3                          3.26     34310.242831  1.260617e+06   \n",
       "4                          4.23     26354.109472  6.309435e+05   \n",
       "\n",
       "                                             Address  \n",
       "0  208 Michael Ferry Apt. 674\\nLaurabury, NE 3701...  \n",
       "1  188 Johnson Views Suite 079\\nLake Kathleen, CA...  \n",
       "2  9127 Elizabeth Stravenue\\nDanieltown, WI 06482...  \n",
       "3                          USS Barnett\\nFPO AP 44820  \n",
       "4                         USNS Raymond\\nFPO AE 09386  "
      ]
     },
     "execution_count": 3,
     "metadata": {},
     "output_type": "execute_result"
    }
   ],
   "source": [
    "df.head() \n",
    "# printing the first five columns of the dataset."
   ]
  },
  {
   "cell_type": "code",
   "execution_count": 4,
   "id": "75704cfb",
   "metadata": {
    "execution": {
     "iopub.execute_input": "2023-07-11T10:56:15.151275Z",
     "iopub.status.busy": "2023-07-11T10:56:15.150876Z",
     "iopub.status.idle": "2023-07-11T10:56:15.184954Z",
     "shell.execute_reply": "2023-07-11T10:56:15.183873Z"
    },
    "papermill": {
     "duration": 0.045897,
     "end_time": "2023-07-11T10:56:15.187149",
     "exception": false,
     "start_time": "2023-07-11T10:56:15.141252",
     "status": "completed"
    },
    "tags": []
   },
   "outputs": [
    {
     "data": {
      "text/html": [
       "<div>\n",
       "<style scoped>\n",
       "    .dataframe tbody tr th:only-of-type {\n",
       "        vertical-align: middle;\n",
       "    }\n",
       "\n",
       "    .dataframe tbody tr th {\n",
       "        vertical-align: top;\n",
       "    }\n",
       "\n",
       "    .dataframe thead th {\n",
       "        text-align: right;\n",
       "    }\n",
       "</style>\n",
       "<table border=\"1\" class=\"dataframe\">\n",
       "  <thead>\n",
       "    <tr style=\"text-align: right;\">\n",
       "      <th></th>\n",
       "      <th>Avg. Area Income</th>\n",
       "      <th>Avg. Area House Age</th>\n",
       "      <th>Avg. Area Number of Rooms</th>\n",
       "      <th>Avg. Area Number of Bedrooms</th>\n",
       "      <th>Area Population</th>\n",
       "      <th>Price</th>\n",
       "    </tr>\n",
       "  </thead>\n",
       "  <tbody>\n",
       "    <tr>\n",
       "      <th>count</th>\n",
       "      <td>5000.000000</td>\n",
       "      <td>5000.000000</td>\n",
       "      <td>5000.000000</td>\n",
       "      <td>5000.000000</td>\n",
       "      <td>5000.000000</td>\n",
       "      <td>5.000000e+03</td>\n",
       "    </tr>\n",
       "    <tr>\n",
       "      <th>mean</th>\n",
       "      <td>68583.108984</td>\n",
       "      <td>5.977222</td>\n",
       "      <td>6.987792</td>\n",
       "      <td>3.981330</td>\n",
       "      <td>36163.516039</td>\n",
       "      <td>1.232073e+06</td>\n",
       "    </tr>\n",
       "    <tr>\n",
       "      <th>std</th>\n",
       "      <td>10657.991214</td>\n",
       "      <td>0.991456</td>\n",
       "      <td>1.005833</td>\n",
       "      <td>1.234137</td>\n",
       "      <td>9925.650114</td>\n",
       "      <td>3.531176e+05</td>\n",
       "    </tr>\n",
       "    <tr>\n",
       "      <th>min</th>\n",
       "      <td>17796.631190</td>\n",
       "      <td>2.644304</td>\n",
       "      <td>3.236194</td>\n",
       "      <td>2.000000</td>\n",
       "      <td>172.610686</td>\n",
       "      <td>1.593866e+04</td>\n",
       "    </tr>\n",
       "    <tr>\n",
       "      <th>25%</th>\n",
       "      <td>61480.562388</td>\n",
       "      <td>5.322283</td>\n",
       "      <td>6.299250</td>\n",
       "      <td>3.140000</td>\n",
       "      <td>29403.928702</td>\n",
       "      <td>9.975771e+05</td>\n",
       "    </tr>\n",
       "    <tr>\n",
       "      <th>50%</th>\n",
       "      <td>68804.286404</td>\n",
       "      <td>5.970429</td>\n",
       "      <td>7.002902</td>\n",
       "      <td>4.050000</td>\n",
       "      <td>36199.406689</td>\n",
       "      <td>1.232669e+06</td>\n",
       "    </tr>\n",
       "    <tr>\n",
       "      <th>75%</th>\n",
       "      <td>75783.338666</td>\n",
       "      <td>6.650808</td>\n",
       "      <td>7.665871</td>\n",
       "      <td>4.490000</td>\n",
       "      <td>42861.290769</td>\n",
       "      <td>1.471210e+06</td>\n",
       "    </tr>\n",
       "    <tr>\n",
       "      <th>max</th>\n",
       "      <td>107701.748378</td>\n",
       "      <td>9.519088</td>\n",
       "      <td>10.759588</td>\n",
       "      <td>6.500000</td>\n",
       "      <td>69621.713378</td>\n",
       "      <td>2.469066e+06</td>\n",
       "    </tr>\n",
       "  </tbody>\n",
       "</table>\n",
       "</div>"
      ],
      "text/plain": [
       "       Avg. Area Income  Avg. Area House Age  Avg. Area Number of Rooms  \\\n",
       "count       5000.000000          5000.000000                5000.000000   \n",
       "mean       68583.108984             5.977222                   6.987792   \n",
       "std        10657.991214             0.991456                   1.005833   \n",
       "min        17796.631190             2.644304                   3.236194   \n",
       "25%        61480.562388             5.322283                   6.299250   \n",
       "50%        68804.286404             5.970429                   7.002902   \n",
       "75%        75783.338666             6.650808                   7.665871   \n",
       "max       107701.748378             9.519088                  10.759588   \n",
       "\n",
       "       Avg. Area Number of Bedrooms  Area Population         Price  \n",
       "count                   5000.000000      5000.000000  5.000000e+03  \n",
       "mean                       3.981330     36163.516039  1.232073e+06  \n",
       "std                        1.234137      9925.650114  3.531176e+05  \n",
       "min                        2.000000       172.610686  1.593866e+04  \n",
       "25%                        3.140000     29403.928702  9.975771e+05  \n",
       "50%                        4.050000     36199.406689  1.232669e+06  \n",
       "75%                        4.490000     42861.290769  1.471210e+06  \n",
       "max                        6.500000     69621.713378  2.469066e+06  "
      ]
     },
     "execution_count": 4,
     "metadata": {},
     "output_type": "execute_result"
    }
   ],
   "source": [
    "df.describe() #Generate descriptive statistics. Descriptive statistics include those that summarize the central tendency, dispersion and shape of a dataset’s distribution"
   ]
  },
  {
   "cell_type": "code",
   "execution_count": 5,
   "id": "a4be7ae1",
   "metadata": {
    "execution": {
     "iopub.execute_input": "2023-07-11T10:56:15.205958Z",
     "iopub.status.busy": "2023-07-11T10:56:15.205533Z",
     "iopub.status.idle": "2023-07-11T10:56:15.230148Z",
     "shell.execute_reply": "2023-07-11T10:56:15.228394Z"
    },
    "papermill": {
     "duration": 0.036581,
     "end_time": "2023-07-11T10:56:15.232259",
     "exception": false,
     "start_time": "2023-07-11T10:56:15.195678",
     "status": "completed"
    },
    "tags": []
   },
   "outputs": [
    {
     "name": "stdout",
     "output_type": "stream",
     "text": [
      "<class 'pandas.core.frame.DataFrame'>\n",
      "RangeIndex: 5000 entries, 0 to 4999\n",
      "Data columns (total 7 columns):\n",
      " #   Column                        Non-Null Count  Dtype  \n",
      "---  ------                        --------------  -----  \n",
      " 0   Avg. Area Income              5000 non-null   float64\n",
      " 1   Avg. Area House Age           5000 non-null   float64\n",
      " 2   Avg. Area Number of Rooms     5000 non-null   float64\n",
      " 3   Avg. Area Number of Bedrooms  5000 non-null   float64\n",
      " 4   Area Population               5000 non-null   float64\n",
      " 5   Price                         5000 non-null   float64\n",
      " 6   Address                       5000 non-null   object \n",
      "dtypes: float64(6), object(1)\n",
      "memory usage: 273.6+ KB\n"
     ]
    }
   ],
   "source": [
    "df.info() # to retrieve information about every column and their datatypes."
   ]
  },
  {
   "cell_type": "markdown",
   "id": "f2d59b87",
   "metadata": {
    "papermill": {
     "duration": 0.008244,
     "end_time": "2023-07-11T10:56:15.249019",
     "exception": false,
     "start_time": "2023-07-11T10:56:15.240775",
     "status": "completed"
    },
    "tags": []
   },
   "source": [
    "# <a id=\"4\"></a>\n",
    "### <div style= \"font-family: Times New Roman; font-weight:bold; letter-spacing: 0px; color:WHITE; font-size:120%; text-align:left;padding:3.0px; background: #FF4500; border-bottom: 8px solid WHITE\" >4 - Data Visualization . <br><div>  "
   ]
  },
  {
   "cell_type": "code",
   "execution_count": 6,
   "id": "21d1a244",
   "metadata": {
    "execution": {
     "iopub.execute_input": "2023-07-11T10:56:15.267807Z",
     "iopub.status.busy": "2023-07-11T10:56:15.267415Z",
     "iopub.status.idle": "2023-07-11T10:56:15.660865Z",
     "shell.execute_reply": "2023-07-11T10:56:15.659925Z"
    },
    "papermill": {
     "duration": 0.405464,
     "end_time": "2023-07-11T10:56:15.662971",
     "exception": false,
     "start_time": "2023-07-11T10:56:15.257507",
     "status": "completed"
    },
    "tags": []
   },
   "outputs": [
    {
     "name": "stderr",
     "output_type": "stream",
     "text": [
      "/tmp/ipykernel_20/834922981.py:1: UserWarning: \n",
      "\n",
      "`distplot` is a deprecated function and will be removed in seaborn v0.14.0.\n",
      "\n",
      "Please adapt your code to use either `displot` (a figure-level function with\n",
      "similar flexibility) or `histplot` (an axes-level function for histograms).\n",
      "\n",
      "For a guide to updating your code to use the new functions, please see\n",
      "https://gist.github.com/mwaskom/de44147ed2974457ad6372750bbe5751\n",
      "\n",
      "  sns.distplot(df['Price'])\n"
     ]
    },
    {
     "data": {
      "text/plain": [
       "<Axes: xlabel='Price', ylabel='Density'>"
      ]
     },
     "execution_count": 6,
     "metadata": {},
     "output_type": "execute_result"
    },
    {
     "data": {
      "image/png": "[encoded data removed]",
      "text/plain": [
       "<Figure size 640x480 with 1 Axes>"
      ]
     },
     "metadata": {},
     "output_type": "display_data"
    }
   ],
   "source": [
    "sns.distplot(df['Price'])"
   ]
  },
  {
   "cell_type": "code",
   "execution_count": 7,
   "id": "42e25ef3",
   "metadata": {
    "execution": {
     "iopub.execute_input": "2023-07-11T10:56:15.682967Z",
     "iopub.status.busy": "2023-07-11T10:56:15.682575Z",
     "iopub.status.idle": "2023-07-11T10:56:16.036175Z",
     "shell.execute_reply": "2023-07-11T10:56:16.034965Z"
    },
    "papermill": {
     "duration": 0.366719,
     "end_time": "2023-07-11T10:56:16.038980",
     "exception": false,
     "start_time": "2023-07-11T10:56:15.672261",
     "status": "completed"
    },
    "tags": []
   },
   "outputs": [
    {
     "data": {
      "text/plain": [
       "<Axes: xlabel='Price', ylabel='Count'>"
      ]
     },
     "execution_count": 7,
     "metadata": {},
     "output_type": "execute_result"
    },
    {
     "data": {
      "image/png": "[encoded data removed]",
      "text/plain": [
       "<Figure size 640x480 with 1 Axes>"
      ]
     },
     "metadata": {},
     "output_type": "display_data"
    }
   ],
   "source": [
    "# Since Distplot is gonna be removed soon we may use Histogram plot as a alternative,\n",
    "\n",
    "sns.histplot(x='Price',data = df)"
   ]
  },
  {
   "cell_type": "code",
   "execution_count": 8,
   "id": "cd372dfa",
   "metadata": {
    "execution": {
     "iopub.execute_input": "2023-07-11T10:56:16.060362Z",
     "iopub.status.busy": "2023-07-11T10:56:16.059966Z",
     "iopub.status.idle": "2023-07-11T10:56:16.525093Z",
     "shell.execute_reply": "2023-07-11T10:56:16.524131Z"
    },
    "papermill": {
     "duration": 0.478709,
     "end_time": "2023-07-11T10:56:16.527424",
     "exception": false,
     "start_time": "2023-07-11T10:56:16.048715",
     "status": "completed"
    },
    "tags": []
   },
   "outputs": [
    {
     "name": "stderr",
     "output_type": "stream",
     "text": [
      "/tmp/ipykernel_20/2321995514.py:3: FutureWarning: The default value of numeric_only in DataFrame.corr is deprecated. In a future version, it will default to False. Select only valid columns or specify the value of numeric_only to silence this warning.\n",
      "  sns.heatmap(df.corr() , annot = True , cmap = \"BuPu\" )\n"
     ]
    },
    {
     "data": {
      "text/plain": [
       "<Axes: >"
      ]
     },
     "execution_count": 8,
     "metadata": {},
     "output_type": "execute_result"
    },
    {
     "data": {
      "image/png": "[encoded data removed]",
      "text/plain": [
       "<Figure size 640x480 with 2 Axes>"
      ]
     },
     "metadata": {},
     "output_type": "display_data"
    }
   ],
   "source": [
    "# Heatmap \n",
    "\n",
    "sns.heatmap(df.corr() , annot = True , cmap = \"BuPu\" )"
   ]
  },
  {
   "cell_type": "markdown",
   "id": "4600c746",
   "metadata": {
    "papermill": {
     "duration": 0.010677,
     "end_time": "2023-07-11T10:56:16.549233",
     "exception": false,
     "start_time": "2023-07-11T10:56:16.538556",
     "status": "completed"
    },
    "tags": []
   },
   "source": [
    "# <a id=\"5\"></a>\n",
    "### <div style= \"font-family: Times New Roman; font-weight:bold; letter-spacing: 0px; color:WHITE; font-size:120%; text-align:left;padding:3.0px; background: #FF4500; border-bottom: 8px solid WHITE\" >5 - Model Building. <br><div>  "
   ]
  },
  {
   "cell_type": "markdown",
   "id": "bf776142",
   "metadata": {
    "papermill": {
     "duration": 0.010756,
     "end_time": "2023-07-11T10:56:16.571517",
     "exception": false,
     "start_time": "2023-07-11T10:56:16.560761",
     "status": "completed"
    },
    "tags": []
   },
   "source": [
    "# <a id=\"5.1\"></a>\n",
    "### <span style=\"color: #FF4500;\"> 5.1 - Linear Regression Model"
   ]
  },
  {
   "cell_type": "code",
   "execution_count": 9,
   "id": "e14fcc74",
   "metadata": {
    "execution": {
     "iopub.execute_input": "2023-07-11T10:56:16.596036Z",
     "iopub.status.busy": "2023-07-11T10:56:16.594787Z",
     "iopub.status.idle": "2023-07-11T10:56:16.601063Z",
     "shell.execute_reply": "2023-07-11T10:56:16.600199Z"
    },
    "papermill": {
     "duration": 0.020603,
     "end_time": "2023-07-11T10:56:16.603254",
     "exception": false,
     "start_time": "2023-07-11T10:56:16.582651",
     "status": "completed"
    },
    "tags": []
   },
   "outputs": [],
   "source": [
    "# Linear Regression Model.\n",
    "x=df[['Avg. Area Income', 'Avg. Area House Age', 'Avg. Area Number of Rooms',\n",
    "       'Avg. Area Number of Bedrooms', 'Area Population']]\n",
    "y=df['Price']\n",
    "\n",
    "\n"
   ]
  },
  {
   "cell_type": "markdown",
   "id": "9d18ce7c",
   "metadata": {
    "papermill": {
     "duration": 0.010671,
     "end_time": "2023-07-11T10:56:16.625028",
     "exception": false,
     "start_time": "2023-07-11T10:56:16.614357",
     "status": "completed"
    },
    "tags": []
   },
   "source": [
    "### <span style=\"color: #FF4500;\">  Training and Testing Data : \n",
    "\n",
    "\n",
    "The train_test_split function is a utility function in the scikit-learn library that is used to split a dataset into training and testing sets. The function takes two arrays, x and y, representing the features and labels of the dataset, and returns four arrays: x_train, x_test, y_train, and y_test, representing the training and testing sets for both the features and labels.\n",
    "\n",
    "The test_size parameter is used to specify the proportion of the dataset that should be used for testing. In the example code, test_size=0.4 means that 40% of the dataset will be used for testing, and the remaining 60% will be used for training.\n",
    "\n",
    "The random_state parameter is used to set the random seed for the random number generator used by the function. This ensures that the same split is obtained every time the function is called with the same parameters. In the example code, random_state=101 means that the same split will be obtained every time the function is called with random_state=101.\n",
    "\n",
    "The train_test_split function is commonly used in machine learning to split a dataset into training and testing sets for model training and evaluation. By splitting the dataset into training and testing sets, we can train the model on the training set and evaluate its performance on the testing set. This helps to prevent overfitting and provides a more accurate estimate of the model's performance on new, unseen data."
   ]
  },
  {
   "cell_type": "markdown",
   "id": "94629fbc",
   "metadata": {
    "papermill": {
     "duration": 0.01301,
     "end_time": "2023-07-11T10:56:16.649146",
     "exception": false,
     "start_time": "2023-07-11T10:56:16.636136",
     "status": "completed"
    },
    "tags": []
   },
   "source": [
    "# <a id=\"5.2\"></a>\n",
    "### <span style=\"color: #FF4500;\"> 5.2 - Train and Test split of Data . "
   ]
  },
  {
   "cell_type": "code",
   "execution_count": 10,
   "id": "3bcf0056",
   "metadata": {
    "execution": {
     "iopub.execute_input": "2023-07-11T10:56:16.673714Z",
     "iopub.status.busy": "2023-07-11T10:56:16.672384Z",
     "iopub.status.idle": "2023-07-11T10:56:16.951561Z",
     "shell.execute_reply": "2023-07-11T10:56:16.950403Z"
    },
    "papermill": {
     "duration": 0.29373,
     "end_time": "2023-07-11T10:56:16.954016",
     "exception": false,
     "start_time": "2023-07-11T10:56:16.660286",
     "status": "completed"
    },
    "tags": []
   },
   "outputs": [],
   "source": [
    "# Dividing the dataset into training and testing Dataset.\n",
    "from sklearn.model_selection import train_test_split\n",
    "x_train , x_test , y_train , y_test = train_test_split(x , y , test_size = 0.4 , random_state = 101)"
   ]
  },
  {
   "cell_type": "markdown",
   "id": "212053fc",
   "metadata": {
    "papermill": {
     "duration": 0.010872,
     "end_time": "2023-07-11T10:56:16.976120",
     "exception": false,
     "start_time": "2023-07-11T10:56:16.965248",
     "status": "completed"
    },
    "tags": []
   },
   "source": [
    "# <a id=\"5.3\"></a>\n",
    "### <span style=\"color: #FF4500;\"> 5.3 - Fitting the data."
   ]
  },
  {
   "cell_type": "code",
   "execution_count": 11,
   "id": "edf782cd",
   "metadata": {
    "execution": {
     "iopub.execute_input": "2023-07-11T10:56:17.000601Z",
     "iopub.status.busy": "2023-07-11T10:56:17.000203Z",
     "iopub.status.idle": "2023-07-11T10:56:17.127183Z",
     "shell.execute_reply": "2023-07-11T10:56:17.125922Z"
    },
    "papermill": {
     "duration": 0.142412,
     "end_time": "2023-07-11T10:56:17.129633",
     "exception": false,
     "start_time": "2023-07-11T10:56:16.987221",
     "status": "completed"
    },
    "tags": []
   },
   "outputs": [
    {
     "name": "stdout",
     "output_type": "stream",
     "text": [
      "-2640159.7968526958\n"
     ]
    }
   ],
   "source": [
    "from sklearn.linear_model import LinearRegression\n",
    "lm=LinearRegression() \n",
    "lm.fit(x_train,y_train)\n",
    "print(lm.intercept_) #Intercept is the point where the Regression will cross the Y-axis."
   ]
  },
  {
   "cell_type": "code",
   "execution_count": 12,
   "id": "637f7a96",
   "metadata": {
    "execution": {
     "iopub.execute_input": "2023-07-11T10:56:17.153876Z",
     "iopub.status.busy": "2023-07-11T10:56:17.152843Z",
     "iopub.status.idle": "2023-07-11T10:56:17.162757Z",
     "shell.execute_reply": "2023-07-11T10:56:17.161805Z"
    },
    "papermill": {
     "duration": 0.024138,
     "end_time": "2023-07-11T10:56:17.164809",
     "exception": false,
     "start_time": "2023-07-11T10:56:17.140671",
     "status": "completed"
    },
    "tags": []
   },
   "outputs": [
    {
     "data": {
      "text/html": [
       "<div>\n",
       "<style scoped>\n",
       "    .dataframe tbody tr th:only-of-type {\n",
       "        vertical-align: middle;\n",
       "    }\n",
       "\n",
       "    .dataframe tbody tr th {\n",
       "        vertical-align: top;\n",
       "    }\n",
       "\n",
       "    .dataframe thead th {\n",
       "        text-align: right;\n",
       "    }\n",
       "</style>\n",
       "<table border=\"1\" class=\"dataframe\">\n",
       "  <thead>\n",
       "    <tr style=\"text-align: right;\">\n",
       "      <th></th>\n",
       "      <th>Coeff</th>\n",
       "    </tr>\n",
       "  </thead>\n",
       "  <tbody>\n",
       "    <tr>\n",
       "      <th>Avg. Area Income</th>\n",
       "      <td>21.528276</td>\n",
       "    </tr>\n",
       "    <tr>\n",
       "      <th>Avg. Area House Age</th>\n",
       "      <td>164883.282027</td>\n",
       "    </tr>\n",
       "    <tr>\n",
       "      <th>Avg. Area Number of Rooms</th>\n",
       "      <td>122368.678027</td>\n",
       "    </tr>\n",
       "    <tr>\n",
       "      <th>Avg. Area Number of Bedrooms</th>\n",
       "      <td>2233.801864</td>\n",
       "    </tr>\n",
       "    <tr>\n",
       "      <th>Area Population</th>\n",
       "      <td>15.150420</td>\n",
       "    </tr>\n",
       "  </tbody>\n",
       "</table>\n",
       "</div>"
      ],
      "text/plain": [
       "                                      Coeff\n",
       "Avg. Area Income                  21.528276\n",
       "Avg. Area House Age           164883.282027\n",
       "Avg. Area Number of Rooms     122368.678027\n",
       "Avg. Area Number of Bedrooms    2233.801864\n",
       "Area Population                   15.150420"
      ]
     },
     "execution_count": 12,
     "metadata": {},
     "output_type": "execute_result"
    }
   ],
   "source": [
    "cdf=pd.DataFrame(lm.coef_,x.columns,columns=['Coeff']) \n",
    "cdf\n",
    "#In linear regression, coefficients are the values that multiply the predictor values. \n",
    "#Suppose you have the following regression equation: y = 3X + 5. In this equation, +3 is the coefficient, X is the predictor, and +5 is the constant."
   ]
  },
  {
   "cell_type": "markdown",
   "id": "d9e02e87",
   "metadata": {
    "papermill": {
     "duration": 0.010902,
     "end_time": "2023-07-11T10:56:17.186991",
     "exception": false,
     "start_time": "2023-07-11T10:56:17.176089",
     "status": "completed"
    },
    "tags": []
   },
   "source": [
    "# <a id=\"5.4\"></a>\n",
    "### <span style=\"color: #FF4500;\"> 5.4 - Predictions . "
   ]
  },
  {
   "cell_type": "code",
   "execution_count": 13,
   "id": "b3de8c72",
   "metadata": {
    "execution": {
     "iopub.execute_input": "2023-07-11T10:56:17.211642Z",
     "iopub.status.busy": "2023-07-11T10:56:17.210870Z",
     "iopub.status.idle": "2023-07-11T10:56:17.222308Z",
     "shell.execute_reply": "2023-07-11T10:56:17.221050Z"
    },
    "papermill": {
     "duration": 0.027805,
     "end_time": "2023-07-11T10:56:17.226085",
     "exception": false,
     "start_time": "2023-07-11T10:56:17.198280",
     "status": "completed"
    },
    "tags": []
   },
   "outputs": [
    {
     "name": "stdout",
     "output_type": "stream",
     "text": [
      "[1260960.70567627  827588.75560329 1742421.24254344 ...  372191.40626917\n",
      " 1365217.15140898 1914519.5417888 ]\n"
     ]
    }
   ],
   "source": [
    "# checking the predictions \n",
    "predictions = lm.predict(x_test)\n",
    "print(predictions)"
   ]
  },
  {
   "cell_type": "markdown",
   "id": "63a56eb5",
   "metadata": {
    "papermill": {
     "duration": 0.018163,
     "end_time": "2023-07-11T10:56:17.262954",
     "exception": false,
     "start_time": "2023-07-11T10:56:17.244791",
     "status": "completed"
    },
    "tags": []
   },
   "source": [
    "# <a id=\"5.5\"></a>\n",
    "### <span style=\"color: #FF4500;\"> 5.5 - Visualizing the output ."
   ]
  },
  {
   "cell_type": "code",
   "execution_count": 14,
   "id": "a0ebc42f",
   "metadata": {
    "execution": {
     "iopub.execute_input": "2023-07-11T10:56:17.302707Z",
     "iopub.status.busy": "2023-07-11T10:56:17.302117Z",
     "iopub.status.idle": "2023-07-11T10:56:17.564953Z",
     "shell.execute_reply": "2023-07-11T10:56:17.563702Z"
    },
    "papermill": {
     "duration": 0.285652,
     "end_time": "2023-07-11T10:56:17.567575",
     "exception": false,
     "start_time": "2023-07-11T10:56:17.281923",
     "status": "completed"
    },
    "tags": []
   },
   "outputs": [
    {
     "data": {
      "image/png": "[encoded data removed]",
      "text/plain": [
       "<Figure size 900x600 with 1 Axes>"
      ]
     },
     "metadata": {},
     "output_type": "display_data"
    }
   ],
   "source": [
    "plt.figure(figsize=(9,6))\n",
    "plt.scatter(y_test,predictions)\n",
    "plt.xlabel(\"y_test\")\n",
    "plt.ylabel(\"predictions\")\n",
    "\n",
    "\n",
    "plt.show()\n",
    "\n",
    "# here we check or validate our predictions to determine the error rate using the testing data."
   ]
  },
  {
   "cell_type": "code",
   "execution_count": 15,
   "id": "6363047f",
   "metadata": {
    "execution": {
     "iopub.execute_input": "2023-07-11T10:56:17.595149Z",
     "iopub.status.busy": "2023-07-11T10:56:17.594748Z",
     "iopub.status.idle": "2023-07-11T10:56:17.987909Z",
     "shell.execute_reply": "2023-07-11T10:56:17.986764Z"
    },
    "papermill": {
     "duration": 0.409299,
     "end_time": "2023-07-11T10:56:17.990096",
     "exception": false,
     "start_time": "2023-07-11T10:56:17.580797",
     "status": "completed"
    },
    "tags": []
   },
   "outputs": [
    {
     "data": {
      "image/png": "[encoded data removed]",
      "text/plain": [
       "<Figure size 900x600 with 1 Axes>"
      ]
     },
     "metadata": {},
     "output_type": "display_data"
    }
   ],
   "source": [
    "# Creating a Histogram.\n",
    "\n",
    "plt.figure(figsize=(9,6))\n",
    "sns.histplot((y_test-predictions),bins= 100)\n",
    "plt.show()"
   ]
  },
  {
   "cell_type": "markdown",
   "id": "77c9b5f9",
   "metadata": {
    "papermill": {
     "duration": 0.012107,
     "end_time": "2023-07-11T10:56:18.014912",
     "exception": false,
     "start_time": "2023-07-11T10:56:18.002805",
     "status": "completed"
    },
    "tags": []
   },
   "source": [
    "# <a id=\"6\"></a>\n",
    "### <div style= \"font-family: Times New Roman; font-weight:bold; letter-spacing: 0px; color:WHITE; font-size:120%; text-align:left;padding:3.0px; background: #FF4500; border-bottom: 8px solid WHITE\" >6 - Calcluating the Metrics. <br><div>  "
   ]
  },
  {
   "cell_type": "code",
   "execution_count": 16,
   "id": "829e937b",
   "metadata": {
    "execution": {
     "iopub.execute_input": "2023-07-11T10:56:18.041975Z",
     "iopub.status.busy": "2023-07-11T10:56:18.041320Z",
     "iopub.status.idle": "2023-07-11T10:56:18.045876Z",
     "shell.execute_reply": "2023-07-11T10:56:18.045108Z"
    },
    "papermill": {
     "duration": 0.02053,
     "end_time": "2023-07-11T10:56:18.047926",
     "exception": false,
     "start_time": "2023-07-11T10:56:18.027396",
     "status": "completed"
    },
    "tags": []
   },
   "outputs": [],
   "source": [
    "# Calculating the RMSE , MAE and MSE values...\n",
    "\n",
    "from sklearn import metrics"
   ]
  },
  {
   "cell_type": "markdown",
   "id": "beab3c9a",
   "metadata": {
    "papermill": {
     "duration": 0.012524,
     "end_time": "2023-07-11T10:56:18.072797",
     "exception": false,
     "start_time": "2023-07-11T10:56:18.060273",
     "status": "completed"
    },
    "tags": []
   },
   "source": [
    "# <a id=\"6.1\"></a>\n",
    "### <span style=\"color: #FF4500;\"> 6.1 - Mean Squared Error (MSE) :"
   ]
  },
  {
   "cell_type": "code",
   "execution_count": 17,
   "id": "90e27f6b",
   "metadata": {
    "execution": {
     "iopub.execute_input": "2023-07-11T10:56:18.098848Z",
     "iopub.status.busy": "2023-07-11T10:56:18.098479Z",
     "iopub.status.idle": "2023-07-11T10:56:18.104712Z",
     "shell.execute_reply": "2023-07-11T10:56:18.103914Z"
    },
    "papermill": {
     "duration": 0.021986,
     "end_time": "2023-07-11T10:56:18.107062",
     "exception": false,
     "start_time": "2023-07-11T10:56:18.085076",
     "status": "completed"
    },
    "tags": []
   },
   "outputs": [
    {
     "name": "stdout",
     "output_type": "stream",
     "text": [
      "MSE (Mean Square error) :  10460958907.208977\n"
     ]
    }
   ],
   "source": [
    "# Calculating the Mean Squared error...\n",
    "\n",
    "mean_square_error = metrics.mean_squared_error(y_test , predictions )\n",
    "print('MSE (Mean Square error) : ',mean_square_error)"
   ]
  },
  {
   "cell_type": "markdown",
   "id": "f44e7eeb",
   "metadata": {
    "papermill": {
     "duration": 0.012727,
     "end_time": "2023-07-11T10:56:18.132271",
     "exception": false,
     "start_time": "2023-07-11T10:56:18.119544",
     "status": "completed"
    },
    "tags": []
   },
   "source": [
    "# <a id=\"6.2\"></a>\n",
    "### <span style=\"color: #FF4500;\"> 6.2 - Root Mean Squared Error (RMSE) :"
   ]
  },
  {
   "cell_type": "code",
   "execution_count": 18,
   "id": "35786eef",
   "metadata": {
    "execution": {
     "iopub.execute_input": "2023-07-11T10:56:18.159247Z",
     "iopub.status.busy": "2023-07-11T10:56:18.158842Z",
     "iopub.status.idle": "2023-07-11T10:56:18.164404Z",
     "shell.execute_reply": "2023-07-11T10:56:18.163143Z"
    },
    "papermill": {
     "duration": 0.021668,
     "end_time": "2023-07-11T10:56:18.166879",
     "exception": false,
     "start_time": "2023-07-11T10:56:18.145211",
     "status": "completed"
    },
    "tags": []
   },
   "outputs": [
    {
     "name": "stdout",
     "output_type": "stream",
     "text": [
      "RMSE (Root Mean Squared Error) : 102278.82922290897\n"
     ]
    }
   ],
   "source": [
    "# Calculating the Root mean squared error...\n",
    "\n",
    "root_mean_square_error = np.sqrt(mean_square_error)\n",
    "print('RMSE (Root Mean Squared Error) :', root_mean_square_error)"
   ]
  },
  {
   "cell_type": "markdown",
   "id": "597cb55c",
   "metadata": {
    "papermill": {
     "duration": 0.01217,
     "end_time": "2023-07-11T10:56:18.191944",
     "exception": false,
     "start_time": "2023-07-11T10:56:18.179774",
     "status": "completed"
    },
    "tags": []
   },
   "source": [
    "# <a id=\"6.3\"></a>\n",
    "### <span style=\"color: #FF4500;\"> 6.3 - Mean Absolute Error (MAE) :"
   ]
  },
  {
   "cell_type": "code",
   "execution_count": 19,
   "id": "493c9c3c",
   "metadata": {
    "execution": {
     "iopub.execute_input": "2023-07-11T10:56:18.219041Z",
     "iopub.status.busy": "2023-07-11T10:56:18.217952Z",
     "iopub.status.idle": "2023-07-11T10:56:18.224953Z",
     "shell.execute_reply": "2023-07-11T10:56:18.223966Z"
    },
    "papermill": {
     "duration": 0.022573,
     "end_time": "2023-07-11T10:56:18.227025",
     "exception": false,
     "start_time": "2023-07-11T10:56:18.204452",
     "status": "completed"
    },
    "tags": []
   },
   "outputs": [
    {
     "name": "stdout",
     "output_type": "stream",
     "text": [
      "MAE (Mean Absolute Error) :  82288.22251914942\n"
     ]
    }
   ],
   "source": [
    "# Calculating the Mean Absolute Error...\n",
    "\n",
    "Mean_absolute_error = metrics.mean_absolute_error(y_test,predictions)\n",
    "print( \"MAE (Mean Absolute Error) : \" , Mean_absolute_error)"
   ]
  },
  {
   "cell_type": "markdown",
   "id": "4e409a3c",
   "metadata": {
    "papermill": {
     "duration": 0.011925,
     "end_time": "2023-07-11T10:56:18.251252",
     "exception": false,
     "start_time": "2023-07-11T10:56:18.239327",
     "status": "completed"
    },
    "tags": []
   },
   "source": [
    "# <a id=\"6.4\"></a>\n",
    "### <span style=\"color: #FF4500;\"> 6.4 - R-Squared Statistics (r2-score) :"
   ]
  },
  {
   "cell_type": "code",
   "execution_count": 20,
   "id": "fc3b7674",
   "metadata": {
    "execution": {
     "iopub.execute_input": "2023-07-11T10:56:18.277769Z",
     "iopub.status.busy": "2023-07-11T10:56:18.277157Z",
     "iopub.status.idle": "2023-07-11T10:56:18.284059Z",
     "shell.execute_reply": "2023-07-11T10:56:18.282804Z"
    },
    "papermill": {
     "duration": 0.022769,
     "end_time": "2023-07-11T10:56:18.286381",
     "exception": false,
     "start_time": "2023-07-11T10:56:18.263612",
     "status": "completed"
    },
    "tags": []
   },
   "outputs": [
    {
     "name": "stdout",
     "output_type": "stream",
     "text": [
      "R2 Score:  0.9176824009649241\n"
     ]
    }
   ],
   "source": [
    "from sklearn.metrics import r2_score\n",
    "\n",
    "r2_score_value = r2_score(y_test, predictions)\n",
    "print(\"R2 Score: \", r2_score_value)\n"
   ]
  },
  {
   "cell_type": "markdown",
   "id": "4c5e8e9d",
   "metadata": {
    "papermill": {
     "duration": 0.012317,
     "end_time": "2023-07-11T10:56:18.311196",
     "exception": false,
     "start_time": "2023-07-11T10:56:18.298879",
     "status": "completed"
    },
    "tags": []
   },
   "source": [
    "# <a id=\"7\"></a>\n",
    "### <div style= \"font-family: Times New Roman; font-weight:bold; letter-spacing: 0px; color:WHITE; font-size:120%; text-align:left;padding:3.0px; background: BROWN; border-bottom: 8px solid WHITE\" > 7 - NOTE:<br><div>  "
   ]
  },
  {
   "cell_type": "markdown",
   "id": "21c76ab4",
   "metadata": {
    "papermill": {
     "duration": 0.012349,
     "end_time": "2023-07-11T10:56:18.336577",
     "exception": false,
     "start_time": "2023-07-11T10:56:18.324228",
     "status": "completed"
    },
    "tags": []
   },
   "source": [
    "# <span style=\"color: BROWN;\"> Thank you guys for your time . I hope the metrics and fitting of a data was indeed helpful for a lot of people out there and do upvote as it will help to reach the work more and spread on a wide reach helping me on my Grandmaster journey . I really appreciate the fact that you completed the notebook from start to end , I will appreciate your comments , reviews ,  upvotes on the same . "
   ]
  },
  {
   "cell_type": "markdown",
   "id": "b97cf012",
   "metadata": {
    "papermill": {
     "duration": 0.012177,
     "end_time": "2023-07-11T10:56:18.361635",
     "exception": false,
     "start_time": "2023-07-11T10:56:18.349458",
     "status": "completed"
    },
    "tags": []
   },
   "source": [
    "![Alt Text](https://cdn.dribbble.com/users/448124/screenshots/2177658/qq-.gif)"
   ]
  }
 ],
 "metadata": {
  "kernelspec": {
   "display_name": "Python 3",
   "language": "python",
   "name": "python3"
  },
  "language_info": {
   "codemirror_mode": {
    "name": "ipython",
    "version": 3
   },
   "file_extension": ".py",
   "mimetype": "text/x-python",
   "name": "python",
   "nbconvert_exporter": "python",
   "pygments_lexer": "ipython3",
   "version": "3.10.12"
  },
  "papermill": {
   "default_parameters": {},
   "duration": 15.552814,
   "end_time": "2023-07-11T10:56:19.396620",
   "environment_variables": {},
   "exception": null,
   "input_path": "__notebook__.ipynb",
   "output_path": "__notebook__.ipynb",
   "parameters": {},
   "start_time": "2023-07-11T10:56:03.843806",
   "version": "2.4.0"
  }
 },
 "nbformat": 4,
 "nbformat_minor": 5
}
